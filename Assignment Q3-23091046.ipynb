{
 "cells": [
  {
   "cell_type": "code",
   "execution_count": 1,
   "id": "2a97513e",
   "metadata": {},
   "outputs": [
    {
     "data": {
      "text/latex": [
       "$\\displaystyle \\left[\\begin{matrix}5 & 8 & 4 & 3 & 2\\\\0 & 2 & 8 & 0 & 7\\\\6 & 2 & 2 & 2 & 2\\\\6 & 7 & 8 & 8 & 6\\\\0 & 2 & 4 & 8 & 8\\end{matrix}\\right]$"
      ],
      "text/plain": [
       "Matrix([\n",
       "[5, 8, 4, 3, 2],\n",
       "[0, 2, 8, 0, 7],\n",
       "[6, 2, 2, 2, 2],\n",
       "[6, 7, 8, 8, 6],\n",
       "[0, 2, 4, 8, 8]])"
      ]
     },
     "execution_count": 1,
     "metadata": {},
     "output_type": "execute_result"
    }
   ],
   "source": [
    "import numpy as np\n",
    "import sympy as sp\n",
    "#Q3\n",
    "# Singular-value decomposition\n",
    "np.random.seed(46)\n",
    "A = np.random.randint(0, 10, size=(5, 5))\n",
    "sp.Matrix(A)\n"
   ]
  },
  {
   "cell_type": "code",
   "execution_count": 2,
   "id": "8ea30e2b",
   "metadata": {},
   "outputs": [],
   "source": [
    "U,s,Vt = np.linalg.svd(A)"
   ]
  },
  {
   "cell_type": "code",
   "execution_count": 3,
   "id": "3367cd19",
   "metadata": {},
   "outputs": [
    {
     "data": {
      "text/latex": [
       "$\\displaystyle \\left[\\begin{matrix}0 & 1.0 & 0 & -1.0 & 0\\\\0 & -1.0 & -1.0 & 0 & 0\\\\0 & 0 & 0 & 1.0 & 0\\\\-1.0 & 0 & 0 & 0 & 1.0\\\\0 & -1.0 & 1.0 & 0 & 0\\end{matrix}\\right]$"
      ],
      "text/plain": [
       "Matrix([\n",
       "[   0,  1.0,    0, -1.0,   0],\n",
       "[   0, -1.0, -1.0,    0,   0],\n",
       "[   0,    0,    0,  1.0,   0],\n",
       "[-1.0,    0,    0,    0, 1.0],\n",
       "[   0, -1.0,  1.0,    0,   0]])"
      ]
     },
     "execution_count": 3,
     "metadata": {},
     "output_type": "execute_result"
    }
   ],
   "source": [
    "sp.Matrix(np.round(U))"
   ]
  },
  {
   "cell_type": "code",
   "execution_count": 4,
   "id": "39e86804",
   "metadata": {},
   "outputs": [
    {
     "data": {
      "text/plain": [
       "array([23.38279999,  9.03229725,  6.37309504,  3.56665046,  1.52477372])"
      ]
     },
     "execution_count": 4,
     "metadata": {},
     "output_type": "execute_result"
    }
   ],
   "source": [
    "s"
   ]
  },
  {
   "cell_type": "code",
   "execution_count": 5,
   "id": "66223ab3",
   "metadata": {},
   "outputs": [
    {
     "data": {
      "text/latex": [
       "$\\displaystyle \\left[\\begin{matrix}0 & 0 & 0 & 0 & 0\\\\0 & 0 & 0 & 0 & 0\\\\0 & 0 & 0 & 0 & 0\\\\0 & 0 & 0 & 0 & 0\\\\0 & 0 & 0 & 0 & 0\\end{matrix}\\right]$"
      ],
      "text/plain": [
       "Matrix([\n",
       "[0, 0, 0, 0, 0],\n",
       "[0, 0, 0, 0, 0],\n",
       "[0, 0, 0, 0, 0],\n",
       "[0, 0, 0, 0, 0],\n",
       "[0, 0, 0, 0, 0]])"
      ]
     },
     "execution_count": 5,
     "metadata": {},
     "output_type": "execute_result"
    }
   ],
   "source": [
    "Sigma = np.zeros((A.shape[0], A.shape[1]))\n",
    "sp.Matrix(Sigma)"
   ]
  },
  {
   "cell_type": "code",
   "execution_count": 6,
   "id": "718e84eb",
   "metadata": {},
   "outputs": [
    {
     "data": {
      "text/latex": [
       "$\\displaystyle \\left[\\begin{matrix}23.3827999925443 & 0 & 0 & 0 & 0\\\\0 & 9.03229725187331 & 0 & 0 & 0\\\\0 & 0 & 6.37309504228627 & 0 & 0\\\\0 & 0 & 0 & 3.56665046460606 & 0\\\\0 & 0 & 0 & 0 & 1.52477372347005\\end{matrix}\\right]$"
      ],
      "text/plain": [
       "Matrix([\n",
       "[23.3827999925443,                0,                0,                0,                0],\n",
       "[               0, 9.03229725187331,                0,                0,                0],\n",
       "[               0,                0, 6.37309504228627,                0,                0],\n",
       "[               0,                0,                0, 3.56665046460606,                0],\n",
       "[               0,                0,                0,                0, 1.52477372347005]])"
      ]
     },
     "execution_count": 6,
     "metadata": {},
     "output_type": "execute_result"
    }
   ],
   "source": [
    "Sigma[:A.shape[1], :A.shape[0]] = np.diag(s)\n",
    "sp.Matrix(Sigma)"
   ]
  },
  {
   "cell_type": "code",
   "execution_count": 7,
   "id": "c00ad5f0",
   "metadata": {},
   "outputs": [
    {
     "data": {
      "text/latex": [
       "$\\displaystyle \\left[\\begin{matrix}-0.320515811505112 & -0.428323724464367 & -0.518555004673155 & -0.454680545917359 & -0.488031464076763\\\\0.654013824713724 & 0.462040116937859 & -0.218423408436867 & -0.0510390090651625 & -0.555401729943149\\\\-0.0354766738562597 & -0.151008056603962 & -0.547906147602494 & 0.821574585297372 & -0.0274231045951476\\\\0.679226642509034 & -0.693510823863863 & 0.0128417970574312 & -0.0820525465333883 & 0.225380507465248\\\\-0.0832352411935376 & -0.315114298985912 & 0.618890833219378 & 0.330065449750159 & -0.633881541485726\\end{matrix}\\right]$"
      ],
      "text/plain": [
       "Matrix([\n",
       "[ -0.320515811505112, -0.428323724464367, -0.518555004673155,  -0.454680545917359,  -0.488031464076763],\n",
       "[  0.654013824713724,  0.462040116937859, -0.218423408436867, -0.0510390090651625,  -0.555401729943149],\n",
       "[-0.0354766738562597, -0.151008056603962, -0.547906147602494,   0.821574585297372, -0.0274231045951476],\n",
       "[  0.679226642509034, -0.693510823863863, 0.0128417970574312, -0.0820525465333883,   0.225380507465248],\n",
       "[-0.0832352411935376, -0.315114298985912,  0.618890833219378,   0.330065449750159,  -0.633881541485726]])"
      ]
     },
     "execution_count": 7,
     "metadata": {},
     "output_type": "execute_result"
    }
   ],
   "source": [
    "sp.Matrix(Vt)"
   ]
  },
  {
   "cell_type": "code",
   "execution_count": 8,
   "id": "fac41b6e",
   "metadata": {},
   "outputs": [],
   "source": [
    "#Verification of SVD\n",
    "B=U@Sigma@Vt"
   ]
  },
  {
   "cell_type": "code",
   "execution_count": 9,
   "id": "8fbd619c",
   "metadata": {},
   "outputs": [
    {
     "data": {
      "text/latex": [
       "$\\displaystyle \\left[\\begin{matrix}5.0 & 8.0 & 4.0 & 3.0 & 2.0\\\\1.40341782255223 \\cdot 10^{-15} & 2.0 & 8.0 & 5.55975758628641 \\cdot 10^{-16} & 7.0\\\\6.0 & 2.0 & 2.0 & 2.0 & 2.0\\\\6.0 & 7.0 & 8.0 & 8.0 & 6.0\\\\1.29464534486903 \\cdot 10^{-15} & 2.0 & 4.0 & 8.0 & 8.0\\end{matrix}\\right]$"
      ],
      "text/plain": [
       "Matrix([\n",
       "[                 5.0, 8.0, 4.0,                  3.0, 2.0],\n",
       "[1.40341782255223e-15, 2.0, 8.0, 5.55975758628641e-16, 7.0],\n",
       "[                 6.0, 2.0, 2.0,                  2.0, 2.0],\n",
       "[                 6.0, 7.0, 8.0,                  8.0, 6.0],\n",
       "[1.29464534486903e-15, 2.0, 4.0,                  8.0, 8.0]])"
      ]
     },
     "execution_count": 9,
     "metadata": {},
     "output_type": "execute_result"
    }
   ],
   "source": [
    "sp.Matrix(B)"
   ]
  },
  {
   "cell_type": "code",
   "execution_count": 10,
   "id": "79879342",
   "metadata": {},
   "outputs": [
    {
     "data": {
      "text/latex": [
       "$\\displaystyle \\left[\\begin{matrix}5.0 & 8.0 & 4.0 & 3.0 & 2.0\\\\0 & 2.0 & 8.0 & 0 & 7.0\\\\6.0 & 2.0 & 2.0 & 2.0 & 2.0\\\\6.0 & 7.0 & 8.0 & 8.0 & 6.0\\\\0 & 2.0 & 4.0 & 8.0 & 8.0\\end{matrix}\\right]$"
      ],
      "text/plain": [
       "Matrix([\n",
       "[5.0, 8.0, 4.0, 3.0, 2.0],\n",
       "[  0, 2.0, 8.0,   0, 7.0],\n",
       "[6.0, 2.0, 2.0, 2.0, 2.0],\n",
       "[6.0, 7.0, 8.0, 8.0, 6.0],\n",
       "[  0, 2.0, 4.0, 8.0, 8.0]])"
      ]
     },
     "execution_count": 10,
     "metadata": {},
     "output_type": "execute_result"
    }
   ],
   "source": [
    "C=np.round(B)\n",
    "sp.Matrix(C)"
   ]
  },
  {
   "cell_type": "code",
   "execution_count": 11,
   "id": "9889ed29",
   "metadata": {},
   "outputs": [
    {
     "data": {
      "text/latex": [
       "$\\displaystyle \\left[\\begin{matrix}3.02678896267208 & 4.0448722812499 & 4.89697078378937 & 4.29377275168351 & 4.60872192846774\\\\2.69916228257014 & 3.6070458938521 & 4.36691127179989 & 3.82900479822028 & 4.10986314328045\\\\1.82766973087933 & 2.44242024299802 & 2.95694393791864 & 2.59271412255926 & 2.78289027434017\\\\5.0114038582405 & 6.69702737995013 & 8.10783261807201 & 7.10912772564048 & 7.63058380967905\\\\3.35662220398964 & 4.48564742338681 & 5.43060023935232 & 4.76167091096534 & 5.11094052075964\\end{matrix}\\right]$"
      ],
      "text/plain": [
       "Matrix([\n",
       "[3.02678896267208,  4.0448722812499, 4.89697078378937, 4.29377275168351, 4.60872192846774],\n",
       "[2.69916228257014,  3.6070458938521, 4.36691127179989, 3.82900479822028, 4.10986314328045],\n",
       "[1.82766973087933, 2.44242024299802, 2.95694393791864, 2.59271412255926, 2.78289027434017],\n",
       "[ 5.0114038582405, 6.69702737995013, 8.10783261807201, 7.10912772564048, 7.63058380967905],\n",
       "[3.35662220398964, 4.48564742338681, 5.43060023935232, 4.76167091096534, 5.11094052075964]])"
      ]
     },
     "execution_count": 11,
     "metadata": {},
     "output_type": "execute_result"
    }
   ],
   "source": [
    "#rank 2 approximation\n",
    "k = 1\n",
    "Uk = U[:,:k] \n",
    "Sigmak = Sigma[:k,:k] \n",
    "Vtk = Vt[:k,:] \n",
    "Ak = Uk@Sigmak@Vtk\n",
    "sp.Matrix(Ak)"
   ]
  },
  {
   "cell_type": "code",
   "execution_count": 12,
   "id": "37d62ad0",
   "metadata": {},
   "outputs": [
    {
     "data": {
      "text/latex": [
       "$\\displaystyle \\left[\\begin{matrix}6.22628337430893 & 6.45221630878783 & 4.48176632721404 & 3.0883791749497 & 1.95881952574848\\\\-0.20894697443882 & 2.16682042885182 & 8.06819264351912 & 0.0624498794318133 & 6.86017557226742\\\\3.92028452733211 & 3.92360586169239 & 2.27059603584634 & 2.41107782557028 & 1.00708788447885\\\\6.07699202317551 & 7.35475691572409 & 7.3293998304247 & 7.64408005310513 & 6.6822203282423\\\\0.0796859729757309 & 1.68450211678577 & 4.36459869643518 & 8.17764186424474 & 7.67166017718873\\end{matrix}\\right]$"
      ],
      "text/plain": [
       "Matrix([\n",
       "[  6.22628337430893, 6.45221630878783, 4.48176632721404,    3.0883791749497, 1.95881952574848],\n",
       "[ -0.20894697443882, 2.16682042885182, 8.06819264351912, 0.0624498794318133, 6.86017557226742],\n",
       "[  3.92028452733211, 3.92360586169239, 2.27059603584634,   2.41107782557028, 1.00708788447885],\n",
       "[  6.07699202317551, 7.35475691572409,  7.3293998304247,   7.64408005310513,  6.6822203282423],\n",
       "[0.0796859729757309, 1.68450211678577, 4.36459869643518,   8.17764186424474, 7.67166017718873]])"
      ]
     },
     "execution_count": 12,
     "metadata": {},
     "output_type": "execute_result"
    }
   ],
   "source": [
    "#rank 3 approximation\n",
    "k = 3\n",
    "Uk = U[:,:k] \n",
    "Sigmak = Sigma[:k,:k] \n",
    "Vtk = Vt[:k,:] \n",
    "Ak = Uk@Sigmak@Vtk\n",
    "sp.Matrix(Ak)"
   ]
  },
  {
   "cell_type": "code",
   "execution_count": null,
   "id": "3c03e498",
   "metadata": {},
   "outputs": [],
   "source": []
  },
  {
   "cell_type": "code",
   "execution_count": null,
   "id": "5f14d737",
   "metadata": {},
   "outputs": [],
   "source": []
  },
  {
   "cell_type": "code",
   "execution_count": null,
   "id": "8bd2dd7d",
   "metadata": {},
   "outputs": [],
   "source": []
  }
 ],
 "metadata": {
  "kernelspec": {
   "display_name": "Python 3 (ipykernel)",
   "language": "python",
   "name": "python3"
  },
  "language_info": {
   "codemirror_mode": {
    "name": "ipython",
    "version": 3
   },
   "file_extension": ".py",
   "mimetype": "text/x-python",
   "name": "python",
   "nbconvert_exporter": "python",
   "pygments_lexer": "ipython3",
   "version": "3.11.5"
  }
 },
 "nbformat": 4,
 "nbformat_minor": 5
}
