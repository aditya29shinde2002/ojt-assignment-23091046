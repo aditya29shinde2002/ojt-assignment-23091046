{
 "cells": [
  {
   "cell_type": "code",
   "execution_count": 4,
   "id": "7f710224",
   "metadata": {},
   "outputs": [],
   "source": [
    "import numpy as np\n",
    "import sympy as sp"
   ]
  },
  {
   "cell_type": "code",
   "execution_count": 5,
   "id": "3d172ebc",
   "metadata": {},
   "outputs": [
    {
     "data": {
      "text/latex": [
       "$\\displaystyle \\left[\\begin{matrix}5 & 8 & 4 & 3 & 2\\\\0 & 2 & 8 & 0 & 7\\\\6 & 2 & 2 & 2 & 2\\\\6 & 7 & 8 & 8 & 6\\\\0 & 2 & 4 & 8 & 8\\end{matrix}\\right]$"
      ],
      "text/plain": [
       "Matrix([\n",
       "[5, 8, 4, 3, 2],\n",
       "[0, 2, 8, 0, 7],\n",
       "[6, 2, 2, 2, 2],\n",
       "[6, 7, 8, 8, 6],\n",
       "[0, 2, 4, 8, 8]])"
      ]
     },
     "execution_count": 5,
     "metadata": {},
     "output_type": "execute_result"
    }
   ],
   "source": [
    "#Q2\n",
    "np.random.seed(46)\n",
    "A = np.random.randint(0, 10, size=(5, 5))\n",
    "sp.Matrix(A)"
   ]
  },
  {
   "cell_type": "code",
   "execution_count": 6,
   "id": "8eb99d97",
   "metadata": {},
   "outputs": [
    {
     "name": "stdout",
     "output_type": "stream",
     "text": [
      "\n",
      "Row Echelon Form of Matrix A:\n"
     ]
    },
    {
     "data": {
      "text/latex": [
       "$\\displaystyle \\left[\\begin{matrix}1.0 & 0.333333333333333 & 0.333333333333333 & 0.333333333333333 & 0.333333333333333\\\\0 & 1.0 & 0.368421052631579 & 0.210526315789474 & 0.0526315789473684\\\\0 & 0 & 1.0 & -0.0579710144927536 & 0.94927536231884\\\\0 & 0 & 0 & 1.0 & 0.617537313432836\\\\0 & 0 & 0 & 0 & 1.0\\end{matrix}\\right]$"
      ],
      "text/plain": [
       "Matrix([\n",
       "[1.0, 0.333333333333333, 0.333333333333333,   0.333333333333333,  0.333333333333333],\n",
       "[  0,               1.0, 0.368421052631579,   0.210526315789474, 0.0526315789473684],\n",
       "[  0,                 0,               1.0, -0.0579710144927536,   0.94927536231884],\n",
       "[  0,                 0,                 0,                 1.0,  0.617537313432836],\n",
       "[  0,                 0,                 0,                   0,                1.0]])"
      ]
     },
     "execution_count": 6,
     "metadata": {},
     "output_type": "execute_result"
    }
   ],
   "source": [
    "# row echelon form\n",
    "A=A.astype(float)\n",
    "num_rows, num_cols = A.shape\n",
    "for col in range(min(num_rows, num_cols)):\n",
    "    pivot_row = col + np.argmax(np.abs(A[col:, col]))\n",
    "    A[[col, pivot_row]] = A[[pivot_row, col]]\n",
    "    A[col] /= A[col, col]\n",
    "    for row in range(col + 1, num_rows):\n",
    "        A[row] -= A[col] * A[row, col]\n",
    "\n",
    "print(\"\\nRow Echelon Form of Matrix A:\")\n",
    "sp.Matrix(A)\n"
   ]
  },
  {
   "cell_type": "code",
   "execution_count": null,
   "id": "4282bbb1",
   "metadata": {},
   "outputs": [],
   "source": []
  },
  {
   "cell_type": "code",
   "execution_count": null,
   "id": "4b00968c",
   "metadata": {},
   "outputs": [],
   "source": []
  },
  {
   "cell_type": "code",
   "execution_count": null,
   "id": "9849fdae",
   "metadata": {},
   "outputs": [],
   "source": []
  },
  {
   "cell_type": "code",
   "execution_count": null,
   "id": "7122a0a3",
   "metadata": {},
   "outputs": [],
   "source": []
  },
  {
   "cell_type": "code",
   "execution_count": null,
   "id": "fcc119e0",
   "metadata": {},
   "outputs": [],
   "source": []
  },
  {
   "cell_type": "code",
   "execution_count": null,
   "id": "0852e974",
   "metadata": {},
   "outputs": [],
   "source": []
  },
  {
   "cell_type": "code",
   "execution_count": null,
   "id": "346cfe19",
   "metadata": {},
   "outputs": [],
   "source": []
  },
  {
   "cell_type": "code",
   "execution_count": null,
   "id": "aa79de89",
   "metadata": {},
   "outputs": [],
   "source": []
  },
  {
   "cell_type": "code",
   "execution_count": null,
   "id": "3401800f",
   "metadata": {},
   "outputs": [],
   "source": []
  },
  {
   "cell_type": "code",
   "execution_count": null,
   "id": "807f26c2",
   "metadata": {},
   "outputs": [],
   "source": []
  },
  {
   "cell_type": "code",
   "execution_count": null,
   "id": "276b3777",
   "metadata": {},
   "outputs": [],
   "source": []
  },
  {
   "cell_type": "code",
   "execution_count": null,
   "id": "9ea2427c",
   "metadata": {},
   "outputs": [],
   "source": []
  },
  {
   "cell_type": "code",
   "execution_count": null,
   "id": "8e627b64",
   "metadata": {},
   "outputs": [],
   "source": []
  },
  {
   "cell_type": "code",
   "execution_count": null,
   "id": "e15acf22",
   "metadata": {},
   "outputs": [],
   "source": []
  }
 ],
 "metadata": {
  "kernelspec": {
   "display_name": "Python 3 (ipykernel)",
   "language": "python",
   "name": "python3"
  },
  "language_info": {
   "codemirror_mode": {
    "name": "ipython",
    "version": 3
   },
   "file_extension": ".py",
   "mimetype": "text/x-python",
   "name": "python",
   "nbconvert_exporter": "python",
   "pygments_lexer": "ipython3",
   "version": "3.11.5"
  }
 },
 "nbformat": 4,
 "nbformat_minor": 5
}
